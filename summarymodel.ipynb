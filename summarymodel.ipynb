{
 "cells": [
  {
   "cell_type": "markdown",
   "id": "563dddee",
   "metadata": {},
   "source": [
    "### An experiment model to see the working of Gemini API to summarize comments "
   ]
  },
  {
   "cell_type": "code",
   "execution_count": 1,
   "id": "8642e9b6",
   "metadata": {},
   "outputs": [],
   "source": [
    "comment = [\n",
    "\"Great video! Could you include more examples next time?\",\n",
    "\"It would be awesome if you could show more examples to clarify the concepts.\",\n",
    "\"The content is excellent, but adding timestamps would make navigation easier.\",\n",
    "\"Timestamps in the description would be really helpful for finding specific sections.\",\n",
    "\"The video is a bit fast-paced. Slowing it down would help in understanding.\",\n",
    "\"Could you cover [specific topic] in your next video?\"]"
   ]
  },
  {
   "cell_type": "code",
   "execution_count": 7,
   "id": "bd51c1ca",
   "metadata": {},
   "outputs": [],
   "source": [
    "import google.generativeai as genai"
   ]
  },
  {
   "cell_type": "code",
   "execution_count": 8,
   "id": "be43678d",
   "metadata": {},
   "outputs": [],
   "source": [
    "google_key = 'use your key'\n",
    "genai.configure(api_key = google_key)"
   ]
  },
  {
   "cell_type": "code",
   "execution_count": 25,
   "id": "a33e446d",
   "metadata": {},
   "outputs": [],
   "source": [
    "# model = genai.GenerativeModel('gemini-pro')"
   ]
  },
  {
   "cell_type": "code",
   "execution_count": 24,
   "id": "1e39f851",
   "metadata": {},
   "outputs": [
    {
     "data": {
      "text/plain": [
       "['1. Include more examples for clarification',\n",
       " '2. Add timestamps for easy navigation',\n",
       " '3. Slow down the video for better understanding',\n",
       " '4. Cover specific topics requested by viewers']"
      ]
     },
     "execution_count": 24,
     "metadata": {},
     "output_type": "execute_result"
    }
   ],
   "source": [
    "#l =json_data.split('\\n')\n",
    "#l"
   ]
  },
  {
   "cell_type": "code",
   "execution_count": 2,
   "id": "e61fb4d9",
   "metadata": {},
   "outputs": [],
   "source": [
    "import pickle"
   ]
  },
  {
   "cell_type": "code",
   "execution_count": 27,
   "id": "253780b7",
   "metadata": {},
   "outputs": [],
   "source": [
    "# pickle.dump(model,open(\"gptimp.pkl\",\"wb\"))"
   ]
  },
  {
   "cell_type": "code",
   "execution_count": 9,
   "id": "91a4e7be",
   "metadata": {},
   "outputs": [],
   "source": [
    "model = pickle.load(open(\"gptimp.pkl\",\"rb\"))"
   ]
  },
  {
   "cell_type": "code",
   "execution_count": 10,
   "id": "31a666c0",
   "metadata": {},
   "outputs": [
    {
     "data": {
      "text/plain": [
       "'1. Include more examples in future videos.\\n2. Add timestamps to clarify concepts.\\n3. Include timestamps in the description for easy navigation.\\n4. Slow down the pace of the video for better understanding.\\n5. Cover specific topics suggested by viewers.'"
      ]
     },
     "execution_count": 10,
     "metadata": {},
     "output_type": "execute_result"
    }
   ],
   "source": [
    "prompt = f\"\"\"\n",
    "             returm  1 to 10 if possible important poins or keysentence by analysing whole given comments on which an youtuber can make content base on gives suggestion from viewer.\n",
    "             In your output, only return the list back as output.which which contain points.\n",
    "             Your task is to update predicted labels under 'sentiment' in the Json code.\n",
    "             Don't make any changes on given list, please.\n",
    "\n",
    "                          {comment}\n",
    "\n",
    "                          \"\"\"\n",
    "response = model.generate_content(prompt)\n",
    "\n",
    "\n",
    "              # Clean the data by stripping the backticks\n",
    "json_data = response.text.strip(\"\")\n",
    "\n",
    "              # Load the cleaned data and convert to DataFrame\n",
    "json_data"
   ]
  },
  {
   "cell_type": "code",
   "execution_count": null,
   "id": "54ba1f10",
   "metadata": {},
   "outputs": [],
   "source": []
  }
 ],
 "metadata": {
  "kernelspec": {
   "display_name": "Python 3",
   "language": "python",
   "name": "python3"
  },
  "language_info": {
   "codemirror_mode": {
    "name": "ipython",
    "version": 3
   },
   "file_extension": ".py",
   "mimetype": "text/x-python",
   "name": "python",
   "nbconvert_exporter": "python",
   "pygments_lexer": "ipython3",
   "version": "3.11.7"
  }
 },
 "nbformat": 4,
 "nbformat_minor": 5
}
