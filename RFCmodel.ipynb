{
 "cells": [
  {
   "cell_type": "code",
   "execution_count": 1,
   "id": "c900af9a",
   "metadata": {},
   "outputs": [],
   "source": [
    "import numpy as np\n",
    "import pandas as pd"
   ]
  },
  {
   "cell_type": "code",
   "execution_count": 2,
   "id": "1eabea12",
   "metadata": {},
   "outputs": [],
   "source": [
    "data = pd.read_csv('dataset - dataset.csv')"
   ]
  },
  {
   "cell_type": "code",
   "execution_count": 3,
   "id": "0fa74e2e",
   "metadata": {},
   "outputs": [
    {
     "data": {
      "text/html": [
       "<div>\n",
       "<style scoped>\n",
       "    .dataframe tbody tr th:only-of-type {\n",
       "        vertical-align: middle;\n",
       "    }\n",
       "\n",
       "    .dataframe tbody tr th {\n",
       "        vertical-align: top;\n",
       "    }\n",
       "\n",
       "    .dataframe thead th {\n",
       "        text-align: right;\n",
       "    }\n",
       "</style>\n",
       "<table border=\"1\" class=\"dataframe\">\n",
       "  <thead>\n",
       "    <tr style=\"text-align: right;\">\n",
       "      <th></th>\n",
       "      <th>Unnamed: 0</th>\n",
       "      <th>comment</th>\n",
       "      <th>sentiment</th>\n",
       "      <th>Unnamed: 3</th>\n",
       "    </tr>\n",
       "  </thead>\n",
       "  <tbody>\n",
       "    <tr>\n",
       "      <th>0</th>\n",
       "      <td>0</td>\n",
       "      <td>kon kon sourav joshi ka fan he channel ko subs...</td>\n",
       "      <td>appreciation</td>\n",
       "      <td>NaN</td>\n",
       "    </tr>\n",
       "    <tr>\n",
       "      <th>1</th>\n",
       "      <td>1</td>\n",
       "      <td>this playlist is very good best way to learn</td>\n",
       "      <td>appreciation</td>\n",
       "      <td>NaN</td>\n",
       "    </tr>\n",
       "    <tr>\n",
       "      <th>2</th>\n",
       "      <td>2</td>\n",
       "      <td>completed the lecture</td>\n",
       "      <td>normal</td>\n",
       "      <td>NaN</td>\n",
       "    </tr>\n",
       "    <tr>\n",
       "      <th>3</th>\n",
       "      <td>3</td>\n",
       "      <td>you ve quickly become one of my favorite youtu...</td>\n",
       "      <td>appreciation</td>\n",
       "      <td>NaN</td>\n",
       "    </tr>\n",
       "    <tr>\n",
       "      <th>4</th>\n",
       "      <td>4</td>\n",
       "      <td>my name ghulk hello jonny bhai i m yourbig fan...</td>\n",
       "      <td>question</td>\n",
       "      <td>NaN</td>\n",
       "    </tr>\n",
       "  </tbody>\n",
       "</table>\n",
       "</div>"
      ],
      "text/plain": [
       "   Unnamed: 0                                            comment  \\\n",
       "0           0  kon kon sourav joshi ka fan he channel ko subs...   \n",
       "1           1       this playlist is very good best way to learn   \n",
       "2           2                              completed the lecture   \n",
       "3           3  you ve quickly become one of my favorite youtu...   \n",
       "4           4  my name ghulk hello jonny bhai i m yourbig fan...   \n",
       "\n",
       "      sentiment Unnamed: 3  \n",
       "0  appreciation        NaN  \n",
       "1  appreciation        NaN  \n",
       "2        normal        NaN  \n",
       "3  appreciation        NaN  \n",
       "4      question        NaN  "
      ]
     },
     "execution_count": 3,
     "metadata": {},
     "output_type": "execute_result"
    }
   ],
   "source": [
    "data.head()"
   ]
  },
  {
   "cell_type": "code",
   "execution_count": 4,
   "id": "96548ed0",
   "metadata": {},
   "outputs": [],
   "source": [
    "sample = data[['comment','sentiment']]"
   ]
  },
  {
   "cell_type": "code",
   "execution_count": 5,
   "id": "9a85806d",
   "metadata": {},
   "outputs": [],
   "source": [
    "d1 = sample[sample['sentiment']=='trolling']\n",
    "d2 = sample[sample['sentiment']=='appreciation']\n",
    "d3 = sample[sample['sentiment']=='normal']\n",
    "d4 = sample[sample['sentiment']=='suggestion']\n",
    "d5 = sample[sample['sentiment']=='question']\n",
    "\n",
    "sample2 = pd.concat([d1, d2, d3, d4, d5,d1, d2, d3, d4, d5])"
   ]
  },
  {
   "cell_type": "code",
   "execution_count": 6,
   "id": "20a7e89d",
   "metadata": {},
   "outputs": [],
   "source": [
    "sample2.reset_index(drop=True,inplace=True)"
   ]
  },
  {
   "cell_type": "code",
   "execution_count": 7,
   "id": "1df4c257",
   "metadata": {},
   "outputs": [
    {
     "data": {
      "text/plain": [
       "normal          5646\n",
       "question        4762\n",
       "appreciation    4268\n",
       "suggestion      4056\n",
       "trolling        1972\n",
       "Name: sentiment, dtype: int64"
      ]
     },
     "execution_count": 7,
     "metadata": {},
     "output_type": "execute_result"
    }
   ],
   "source": [
    "sample2['sentiment'].value_counts()"
   ]
  },
  {
   "cell_type": "code",
   "execution_count": 8,
   "id": "0e3f554a",
   "metadata": {},
   "outputs": [
    {
     "name": "stderr",
     "output_type": "stream",
     "text": [
      "C:\\ProgramData\\Anaconda3\\lib\\site-packages\\scipy\\__init__.py:155: UserWarning: A NumPy version >=1.18.5 and <1.25.0 is required for this version of SciPy (detected version 1.26.4\n",
      "  warnings.warn(f\"A NumPy version >={np_minversion} and <{np_maxversion}\"\n"
     ]
    }
   ],
   "source": [
    "from sklearn.preprocessing import LabelEncoder\n",
    "encoder = LabelEncoder()"
   ]
  },
  {
   "cell_type": "code",
   "execution_count": 9,
   "id": "0a42c110",
   "metadata": {},
   "outputs": [
    {
     "data": {
      "text/plain": [
       "array(['appreciation', 'normal', 'question', 'suggestion', 'trolling'],\n",
       "      dtype=object)"
      ]
     },
     "execution_count": 9,
     "metadata": {},
     "output_type": "execute_result"
    }
   ],
   "source": [
    "Y = encoder.fit_transform(sample2['sentiment'])\n",
    "encoder.classes_"
   ]
  },
  {
   "cell_type": "code",
   "execution_count": 10,
   "id": "421cc8f9",
   "metadata": {},
   "outputs": [
    {
     "data": {
      "text/plain": [
       "numpy.ndarray"
      ]
     },
     "execution_count": 10,
     "metadata": {},
     "output_type": "execute_result"
    }
   ],
   "source": [
    "type(Y)"
   ]
  },
  {
   "cell_type": "code",
   "execution_count": 132,
   "id": "37b3590c",
   "metadata": {},
   "outputs": [],
   "source": [
    "# def text_cleaning(text):\n",
    "#     exclude = '!\"#$%&\\'()*+,-./:;<=>@[\\\\]^_`{|}~'\n",
    "#     pattern = re.compile('<.*?>').sub(r' ', text)  # remove html tag\n",
    "#     pattern = re.compile(\n",
    "#         r'http[s]?://(?:[a-zA-Z]|[0-9]|[$-_@.&+]|[!*\\\\(\\\\),]|(?:%[0-9a-fA-F][0-9a-fA-F]))+').sub(r' ',\n",
    "#                                                                                                  pattern)  # remove links\n",
    "#     pattern = pattern.translate(str.maketrans(\"\", \"\", exclude))  # remove symbols\n",
    "#     pattern = re.compile(\"[\"\n",
    "#                          u\"\\U0001F600-\\U0001F64F\"  # emoticons\n",
    "#                          u\"\\U0001F300-\\U0001F5FF\"  # symbols & pictographs\n",
    "#                          u\"\\U0001F680-\\U0001F6FF\"  # transport & map symbols\n",
    "#                          u\"\\U0001F1E0-\\U0001F1FF\"  # flags (iOS)\n",
    "#                          u\"\\U00002500-\\U00002BEF\"  # chinese char\n",
    "#                          u\"\\U00002702-\\U000027B0\"\n",
    "#                          u\"\\U000024C2-\\U0001F251\"\n",
    "#                          u\"\\U0001f926-\\U0001f937\"\n",
    "#                          # u\"\\U00010000-\\U0010ffff\"\n",
    "#                          u\"\\u2640-\\u2642\"\n",
    "#                          u\"\\u2600-\\u2B55\"\n",
    "#                          u\"\\u200d\"\n",
    "#                          u\"\\u23cf\"\n",
    "#                          u\"\\u23e9\"\n",
    "#                          u\"\\u231a\"\n",
    "#                          u\"\\ufe0f\"  # dingbats\n",
    "#                          u\"\\u3030\"\n",
    "#                          u\"\\u23F2\"\n",
    "#                          \"]+\", flags=re.UNICODE).sub(r'', pattern)\n",
    "#     pattern = re.sub('[^a-zA-Z]', ' ', pattern)  # remove number\n",
    "#     pattern = \" \".join(pattern.split()).lower()  # convert into lower and multipal\n",
    "#     return pattern"
   ]
  },
  {
   "cell_type": "code",
   "execution_count": 133,
   "id": "cc166c02",
   "metadata": {},
   "outputs": [],
   "source": [
    "# tran1 = ColumnTransformer([\n",
    "#     ('encoding',CountVectorizer(ngram_range=(1,2),max_features=2000),['comment'])\n",
    "# ])\n"
   ]
  },
  {
   "cell_type": "code",
   "execution_count": 134,
   "id": "93ae969f",
   "metadata": {},
   "outputs": [],
   "source": [
    "# pipe = Pipeline([\n",
    "#     ('tran1',tran1),\n",
    "#     ('model',model)\n",
    "# ])"
   ]
  },
  {
   "cell_type": "code",
   "execution_count": 11,
   "id": "a5f624b1",
   "metadata": {},
   "outputs": [],
   "source": [
    "from sklearn.feature_extraction.text import TfidfVectorizer"
   ]
  },
  {
   "cell_type": "code",
   "execution_count": 12,
   "id": "e70896ac",
   "metadata": {},
   "outputs": [],
   "source": [
    "vector = TfidfVectorizer(max_features=3000,ngram_range=(1,2))\n",
    "X = vector.fit_transform(sample2['comment']).toarray()\n"
   ]
  },
  {
   "cell_type": "code",
   "execution_count": 13,
   "id": "813c63ca",
   "metadata": {},
   "outputs": [],
   "source": [
    "from sklearn.model_selection import train_test_split\n",
    "x_train,x_test,y_train,y_test = train_test_split(X,Y,random_state=12,test_size=0.2)"
   ]
  },
  {
   "cell_type": "code",
   "execution_count": 14,
   "id": "d5f5558d",
   "metadata": {},
   "outputs": [
    {
     "data": {
      "text/plain": [
       "((16563, 3000), (16563,))"
      ]
     },
     "execution_count": 14,
     "metadata": {},
     "output_type": "execute_result"
    }
   ],
   "source": [
    "x_train.shape,y_train.shape"
   ]
  },
  {
   "cell_type": "code",
   "execution_count": 15,
   "id": "b08b8bf5",
   "metadata": {},
   "outputs": [
    {
     "data": {
      "text/plain": [
       "RandomForestClassifier()"
      ]
     },
     "execution_count": 15,
     "metadata": {},
     "output_type": "execute_result"
    }
   ],
   "source": [
    "from sklearn.ensemble import RandomForestClassifier\n",
    "model = RandomForestClassifier()\n",
    "model.fit(x_train,y_train)"
   ]
  },
  {
   "cell_type": "code",
   "execution_count": 16,
   "id": "77dd01e6",
   "metadata": {},
   "outputs": [],
   "source": [
    "from sklearn.metrics import accuracy_score,confusion_matrix"
   ]
  },
  {
   "cell_type": "code",
   "execution_count": 17,
   "id": "cd28e366",
   "metadata": {},
   "outputs": [
    {
     "name": "stdout",
     "output_type": "stream",
     "text": [
      "0.9171697657570635\n",
      "[[ 778   30    4    4    2]\n",
      " [  35 1073   30   40   47]\n",
      " [  14   33  907   22   12]\n",
      " [  12   20   16  710    4]\n",
      " [   2    9    0    7  330]]\n"
     ]
    }
   ],
   "source": [
    "pred = model.predict(x_test)\n",
    "print(accuracy_score(pred,y_test))\n",
    "print(confusion_matrix(pred,y_test))"
   ]
  },
  {
   "cell_type": "code",
   "execution_count": 147,
   "id": "9fadd3fa",
   "metadata": {},
   "outputs": [
    {
     "data": {
      "text/plain": [
       "array([0.56487628, 0.58272947, 0.56582126, 0.59480676, 0.59842995])"
      ]
     },
     "execution_count": 147,
     "metadata": {},
     "output_type": "execute_result"
    }
   ],
   "source": [
    "from sklearn.model_selection import cross_val_score\n",
    "cross_val_score(RandomForestClassifier(),x_train,y_train,cv=5)"
   ]
  },
  {
   "cell_type": "code",
   "execution_count": 18,
   "id": "3500df29",
   "metadata": {},
   "outputs": [],
   "source": [
    "import pickle"
   ]
  },
  {
   "cell_type": "code",
   "execution_count": 19,
   "id": "96e1ede4",
   "metadata": {},
   "outputs": [],
   "source": [
    "pickle.dump(vector, open('vector.pkl','wb'))\n",
    "pickle.dump(model, open('model.pkl','wb'))"
   ]
  },
  {
   "cell_type": "code",
   "execution_count": 22,
   "id": "f7c763b7",
   "metadata": {},
   "outputs": [],
   "source": [
    "mode1l = pickle.load(open('model.pkl', 'rb'))\n",
    "vector1 = pickle.load(open('vector.pkl', 'rb'))"
   ]
  },
  {
   "cell_type": "code",
   "execution_count": 26,
   "id": "497714e6",
   "metadata": {},
   "outputs": [
    {
     "data": {
      "text/plain": [
       "2"
      ]
     },
     "execution_count": 26,
     "metadata": {},
     "output_type": "execute_result"
    }
   ],
   "source": [
    "predt = mode1l.predict(vector1.transform(['what is your name']))\n",
    "predt[0]"
   ]
  },
  {
   "cell_type": "code",
   "execution_count": null,
   "id": "e42c3363",
   "metadata": {},
   "outputs": [],
   "source": [
    "['appreciation', 'normal', 'question', 'suggestion', 'trolling']"
   ]
  }
 ],
 "metadata": {
  "kernelspec": {
   "display_name": "Python 3",
   "language": "python",
   "name": "python3"
  },
  "language_info": {
   "codemirror_mode": {
    "name": "ipython",
    "version": 3
   },
   "file_extension": ".py",
   "mimetype": "text/x-python",
   "name": "python",
   "nbconvert_exporter": "python",
   "pygments_lexer": "ipython3",
   "version": "3.11.7"
  }
 },
 "nbformat": 4,
 "nbformat_minor": 5
}
